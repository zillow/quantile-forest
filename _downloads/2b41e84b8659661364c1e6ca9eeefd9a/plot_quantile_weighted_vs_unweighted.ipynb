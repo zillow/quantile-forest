{
  "cells": [
    {
      "cell_type": "markdown",
      "metadata": {},
      "source": [
        "\n# Predicting with weighted and unweighted quantiles\n\nAn example comparison of the prediction runtime when using a quantile\nregression forest with weighted and unweighted quantiles to compute the\npredicted output values. A standard random forest regressor is included for\ncomparison.\n"
      ]
    },
    {
      "cell_type": "code",
      "execution_count": null,
      "metadata": {
        "collapsed": false
      },
      "outputs": [],
      "source": [
        "print(__doc__)\n\nimport time\nfrom contextlib import contextmanager\n\nimport matplotlib.pyplot as plt\nimport numpy as np\nfrom sklearn import datasets\nfrom sklearn.ensemble import RandomForestRegressor\nfrom sklearn.model_selection import train_test_split\n\nfrom quantile_forest import RandomForestQuantileRegressor\n\n\n@contextmanager\ndef timing():\n    t0 = time.time()\n    yield lambda: (t1 - t0)\n    t1 = time.time()\n\n\n# Create synthetic regression dataset.\nX, y = datasets.make_regression(n_samples=1000, n_features=4, random_state=0)\n\nX_train, X_test, y_train, y_test = train_test_split(X, y, test_size=0.5, random_state=0)\n\nestimator_sizes = [1, 5, 10, 25, 50, 100]\n\nn_repeats = 10\nn_sizes = len(estimator_sizes)\n\ntimings = []\n\ntimings = np.empty((n_sizes, n_repeats, 3))\nfor i, n_estimators in enumerate(estimator_sizes):\n    for j in range(n_repeats):\n        rf = RandomForestRegressor(\n            n_estimators=n_estimators,\n            random_state=0,\n        )\n        qrf = RandomForestQuantileRegressor(\n            n_estimators=n_estimators,\n            max_samples_leaf=None,\n            random_state=0,\n        )\n\n        rf.fit(X_train, y_train)\n        qrf.fit(X_train, y_train)\n\n        with timing() as rf_time:\n            _ = rf.predict(X_test)\n        with timing() as qrf_weighted_time:\n            _ = qrf.predict(X_test, quantiles=0.5, weighted_quantile=True)\n        with timing() as qrf_unweighted_time:\n            _ = qrf.predict(X_test, quantiles=0.5, weighted_quantile=False)\n        timings[i, j, :] = [rf_time(), qrf_weighted_time(), qrf_unweighted_time()]\n        timings[i, j, :] *= 1000\n\nrf_time_avg, qrf_weighted_time_avg, qrf_unweighted_time_avg = list(zip(*np.mean(timings, axis=1)))\nrf_time_std, qrf_weighted_time_std, qrf_unweighted_time_std = list(zip(*np.std(timings, axis=1)))\n\nplt.plot(estimator_sizes, rf_time_avg, c=\"#f2a619\")\nplt.plot(estimator_sizes, qrf_weighted_time_avg, c=\"#006aff\")\nplt.plot(estimator_sizes, qrf_unweighted_time_avg, c=\"#001751\")\nplt.fill_between(\n    estimator_sizes,\n    np.array(rf_time_avg) - (np.array(rf_time_std) / 2),\n    np.array(rf_time_avg) + (np.array(rf_time_std) / 2),\n    alpha=0.1,\n    color=\"#f2a619\",\n)\nplt.fill_between(\n    estimator_sizes,\n    np.array(qrf_weighted_time_avg) - (np.array(qrf_weighted_time_std) * 1.96),\n    np.array(qrf_weighted_time_avg) + (np.array(qrf_weighted_time_std) * 1.96),\n    alpha=0.1,\n    color=\"#006aff\",\n)\nplt.fill_between(\n    estimator_sizes,\n    np.array(qrf_unweighted_time_avg) - (np.array(qrf_unweighted_time_std) * 1.96),\n    np.array(qrf_unweighted_time_avg) + (np.array(qrf_unweighted_time_std) * 1.96),\n    alpha=0.1,\n    color=\"#001751\",\n)\n\nplt.xlim([estimator_sizes[0], estimator_sizes[-1]])\nplt.xlabel(\"Number of Estimators\")\nplt.ylabel(\"Prediction Runtime (seconds)\")\nplt.legend([\"RF\", \"QRF Weighted Quantile\", \"QRF Unweighted Quantile\"])\nplt.show()"
      ]
    }
  ],
  "metadata": {
    "kernelspec": {
      "display_name": "Python 3",
      "language": "python",
      "name": "python3"
    },
    "language_info": {
      "codemirror_mode": {
        "name": "ipython",
        "version": 3
      },
      "file_extension": ".py",
      "mimetype": "text/x-python",
      "name": "python",
      "nbconvert_exporter": "python",
      "pygments_lexer": "ipython3",
      "version": "3.11.5"
    }
  },
  "nbformat": 4,
  "nbformat_minor": 0
}