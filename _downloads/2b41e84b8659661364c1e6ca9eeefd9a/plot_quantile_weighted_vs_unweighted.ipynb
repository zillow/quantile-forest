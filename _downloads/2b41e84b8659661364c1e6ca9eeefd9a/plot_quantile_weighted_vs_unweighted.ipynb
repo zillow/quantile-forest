{
  "cells": [
    {
      "cell_type": "markdown",
      "metadata": {},
      "source": [
        "\n# Predicting with weighted and unweighted quantiles\n\nAn example comparison of the prediction runtime when using a quantile\nregression forest with weighted and unweighted quantiles to compute the\npredicted output values. A standard random forest regressor is included for\ncomparison.\n"
      ]
    },
    {
      "cell_type": "code",
      "execution_count": null,
      "metadata": {
        "collapsed": false
      },
      "outputs": [],
      "source": [
        "print(__doc__)\n\nimport time\nfrom contextlib import contextmanager\n\nimport matplotlib.pyplot as plt\nimport numpy as np\nfrom sklearn import datasets\nfrom sklearn.ensemble import RandomForestRegressor\nfrom sklearn.model_selection import train_test_split\n\nfrom quantile_forest import RandomForestQuantileRegressor\n\n\n@contextmanager\ndef timing():\n    t0 = time.time()\n    yield lambda: (t1 - t0)\n    t1 = time.time()\n\n\n# Create synthetic regression dataset.\nX, y = datasets.make_regression(n_samples=1000, n_features=4, random_state=0)\n\nX_train, X_test, y_train, y_test = train_test_split(X, y, test_size=0.5, random_state=0)\n\nest_sizes = [1, 5, 10, 25, 50, 100]\n\nn_repeats = 10\nn_sizes = len(est_sizes)\n\ntimings = []\n\ntimings = np.empty((n_sizes, n_repeats, 3))\nfor i, n_estimators in enumerate(est_sizes):\n    for j in range(n_repeats):\n        rf = RandomForestRegressor(\n            n_estimators=n_estimators,\n            random_state=0,\n        )\n        qrf = RandomForestQuantileRegressor(\n            n_estimators=n_estimators,\n            max_samples_leaf=None,\n            random_state=0,\n        )\n\n        rf.fit(X_train, y_train)\n        qrf.fit(X_train, y_train)\n\n        with timing() as rf_time:\n            _ = rf.predict(X_test)\n        with timing() as qrf_weighted_time:\n            _ = qrf.predict(X_test, quantiles=0.5, weighted_quantile=True)\n        with timing() as qrf_unweighted_time:\n            _ = qrf.predict(X_test, quantiles=0.5, weighted_quantile=False)\n        timings[i, j, :] = [rf_time(), qrf_weighted_time(), qrf_unweighted_time()]\n        timings[i, j, :] *= 1000\n\n\ndef plot_timings_by_size(est_sizes, est_names, est_colors, est_avgs, est_stds):\n    for color, avg in zip(est_colors, est_avgs):\n        plt.plot(est_sizes, avg, c=color)\n\n    for color, avg, std in zip(est_colors, est_avgs, est_stds):\n        plt.fill_between(\n            est_sizes,\n            np.array(avg) - (np.array(std) / 2),\n            np.array(avg) + (np.array(std) / 2),\n            alpha=0.1,\n            color=color,\n        )\n\n    plt.xlim([est_sizes[0], est_sizes[-1]])\n    plt.xlabel(\"Number of Estimators\")\n    plt.ylabel(\"Prediction Runtime (seconds)\")\n    plt.legend(est_names)\n    plt.show()\n\n\nest_avgs = list(zip(*np.mean(timings, axis=1)))\nest_stds = list(zip(*np.std(timings, axis=1)))\nest_colors = [\"#f2a619\", \"#006aff\", \"#001751\"]\nest_names = [\"RF\", \"QRF Weighted Quantile\", \"QRF Unweighted Quantile\"]\n\nplot_timings_by_size(est_sizes, est_names, est_colors, est_avgs, est_stds)"
      ]
    }
  ],
  "metadata": {
    "kernelspec": {
      "display_name": "Python 3",
      "language": "python",
      "name": "python3"
    },
    "language_info": {
      "codemirror_mode": {
        "name": "ipython",
        "version": 3
      },
      "file_extension": ".py",
      "mimetype": "text/x-python",
      "name": "python",
      "nbconvert_exporter": "python",
      "pygments_lexer": "ipython3",
      "version": "3.12.1"
    }
  },
  "nbformat": 4,
  "nbformat_minor": 0
}