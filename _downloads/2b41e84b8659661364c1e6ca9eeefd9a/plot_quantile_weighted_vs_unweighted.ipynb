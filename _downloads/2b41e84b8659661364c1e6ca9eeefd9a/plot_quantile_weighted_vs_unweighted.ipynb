{
  "cells": [
    {
      "cell_type": "code",
      "execution_count": null,
      "metadata": {
        "collapsed": false
      },
      "outputs": [],
      "source": [
        "%matplotlib inline"
      ]
    },
    {
      "cell_type": "markdown",
      "metadata": {},
      "source": [
        "\n# Predicting with weighted and unweighted quantiles\n\nAn example comparison of the prediction runtime when using a quantile\nregression forest with weighted and unweighted quantiles to compute the\npredicted output values.\n"
      ]
    },
    {
      "cell_type": "code",
      "execution_count": null,
      "metadata": {
        "collapsed": false
      },
      "outputs": [],
      "source": [
        "print(__doc__)\n\nimport time\nfrom contextlib import contextmanager\n\nimport matplotlib.pyplot as plt\nimport numpy as np\nfrom sklearn import datasets\nfrom sklearn.ensemble import RandomForestRegressor\nfrom sklearn.model_selection import train_test_split\n\nfrom quantile_forest import RandomForestQuantileRegressor\n\n\n@contextmanager\ndef timing():\n    t0 = time.time()\n    yield lambda: (t1 - t0)\n    t1 = time.time()\n\n\n# Create synthetic regression dataset.\nX, y = datasets.make_regression(n_samples=500, n_features=4, random_state=0)\n\nX_train, X_test, y_train, y_test = train_test_split(X, y, test_size=0.5, random_state=0)\n\nestimator_sizes = [1, 5, 10, 25, 50, 100, 250, 500]\nn_repeats = 3\n\ntimings = []\n\nfor n_estimators in estimator_sizes:\n    timings_i = []\n    for i in range(n_repeats):\n        rf = RandomForestRegressor(\n            n_estimators=n_estimators,\n            random_state=0,\n        )\n        qrf = RandomForestQuantileRegressor(\n            n_estimators=n_estimators,\n            random_state=0,\n        )\n\n        rf.fit(X_train, y_train)\n        qrf.fit(X_train, y_train)\n\n        with timing() as rf_time:\n            _ = rf.predict(X_test)\n        with timing() as qrf_weighted_time:\n            _ = qrf.predict(X_test, quantiles=0.5, weighted_quantile=True)\n        with timing() as qrf_unweighted_time:\n            _ = qrf.predict(X_test, quantiles=0.5, weighted_quantile=False)\n        timings_i.append(\n            (\n                rf_time(),\n                qrf_weighted_time(),\n                qrf_unweighted_time(),\n            )\n        )\n\n    timings.append([np.min(x) * 1000.0 for x in list(zip(*timings_i))])\n\nrf_time, qrf_weighted_time, qrf_unweighted_time = list(zip(*timings))\n\nline_chart1 = plt.plot(estimator_sizes, rf_time)\nline_chart2 = plt.plot(estimator_sizes, qrf_weighted_time)\nline_chart3 = plt.plot(estimator_sizes, qrf_unweighted_time)\nplt.xlim([estimator_sizes[0], estimator_sizes[-1]])\nplt.xlabel(\"Number of Estimators\")\nplt.ylabel(\"Prediction Runtime (ms)\")\nplt.legend([\"RF\", \"QRF Weighted Quantile\", \"QRF Unweighted Quantile\"])\nplt.show()"
      ]
    }
  ],
  "metadata": {
    "kernelspec": {
      "display_name": "Python 3",
      "language": "python",
      "name": "python3"
    },
    "language_info": {
      "codemirror_mode": {
        "name": "ipython",
        "version": 3
      },
      "file_extension": ".py",
      "mimetype": "text/x-python",
      "name": "python",
      "nbconvert_exporter": "python",
      "pygments_lexer": "ipython3",
      "version": "3.10.10"
    }
  },
  "nbformat": 4,
  "nbformat_minor": 0
}