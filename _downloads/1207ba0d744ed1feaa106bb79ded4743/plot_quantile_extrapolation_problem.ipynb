{
  "cells": [
    {
      "cell_type": "markdown",
      "metadata": {},
      "source": [
        "\n# Quantile regression forest extrapolation problem\n\nAn example on a toy dataset that demonstrates that the prediction intervals\nproduced by a quantile regression forest do not extrapolate outside of the\nbounds of the data in the training set, an important limitation of the\napproach.\n"
      ]
    },
    {
      "cell_type": "code",
      "execution_count": null,
      "metadata": {
        "collapsed": false
      },
      "outputs": [],
      "source": [
        "print(__doc__)\n\nimport matplotlib.pyplot as plt\nimport numpy as np\n\nfrom quantile_forest import RandomForestQuantileRegressor\n\nnp.random.seed(0)\n\nn_samples = 1000\nbounds = [-1, 21]\nextrap_pct = 0.2\nfunc = np.sin\n\n\ndef make_func_Xy(func, bounds, n_samples):\n    x = np.linspace(bounds[0], bounds[1], n_samples)\n    f = func(x)\n    std = 0.01 + np.abs(x - 5.0) / 5.0\n    noise = np.random.normal(scale=std)\n    y = f + noise\n    return x, y\n\n\ndef get_train_Xy(X, y, min_idx, max_idx):\n    X_train = X[min_idx:max_idx]\n    y_train = y[min_idx:max_idx]\n    return X_train, y_train\n\n\ndef get_test_X(X):\n    n_samples = len(X)\n    X_test = np.atleast_2d(np.linspace(-1, 21, n_samples)).T\n    return X_test\n\n\nX, y = make_func_Xy(func, bounds, n_samples)\n\nextrap_min_idx = int(n_samples * (extrap_pct / 2))\nextrap_max_idx = int(n_samples - (n_samples * (extrap_pct / 2)))\n\nX_train, y_train = get_train_Xy(X, y, extrap_min_idx, extrap_max_idx)\nX_test = get_test_X(X)\n\nqrf = RandomForestQuantileRegressor(\n    max_samples_leaf=None,\n    min_samples_leaf=10,\n    random_state=0,\n)\nqrf.fit(np.expand_dims(X_train, axis=-1), y_train)\n\ny_pred = qrf.predict(X_test, quantiles=[0.025, 0.5, 0.975])  # extrapolate\n\n\ndef plot_extrapolations(func, X, y, extrap_min_idx, extrap_max_idx):\n    X_train, y_train = get_train_Xy(X, y, extrap_min_idx, extrap_max_idx)\n    X_test, get_test_X(X)\n\n    X_mid = X[extrap_min_idx:extrap_max_idx].ravel()\n\n    X_test_m = X_test[extrap_min_idx:extrap_max_idx].ravel()\n    X_test_l = X_test[:extrap_min_idx].ravel()\n    X_test_r = X_test[extrap_max_idx:].ravel()\n\n    y_pred_m = y_pred[extrap_min_idx:extrap_max_idx]\n    y_pred_l = y_pred[:extrap_min_idx]\n    y_pred_r = y_pred[extrap_max_idx:]\n\n    fig, (ax1, ax2) = plt.subplots(nrows=1, ncols=2, figsize=(10, 4))\n\n    ax1.plot(X_train, y_train, c=\"#f2a619\", lw=0, marker=\".\", ms=4)\n    ax1.plot(X_train, func(X)[extrap_min_idx:extrap_max_idx], c=\"black\")\n    ax1.fill_between(X_mid, y_pred_m[:, 0], y_pred_m[:, 2], color=\"#e0f2ff\")\n    ax1.plot(X_mid, y_pred_m[:, 1], c=\"#006aff\", lw=2)\n    ax1.set_xlim(bounds)\n    ax1.set_ylim([-8, 8])\n    ax1.set_xlabel(\"$x$\")\n    ax1.set_ylabel(\"$y$\")\n    ax1.set_title(\"Prediction Intervals on Training Data\")\n\n    ax2.plot(X, y, c=\"#f2a619\", lw=0, marker=\".\", ms=4)\n    ax2.plot(X, func(X), c=\"black\")\n    ax2.plot(X_test_m, y_pred_m[:, 1], c=\"#006aff\", lw=2)\n    ax2.fill_between(X_test_m, y_pred_m[:, 0], y_pred_m[:, 2], color=\"#e0f2ff\")\n    ax2.fill_between(X_test_l, y_pred_l[:, 0], y_pred_l[:, 2], alpha=0.2, color=\"r\")\n    ax2.fill_between(X_test_r, y_pred_r[:, 0], y_pred_r[:, 2], alpha=0.2, color=\"r\")\n    ax2.plot(X_test_l, y_pred_l[:, 1], alpha=0.8, c=\"r\", lw=3)\n    ax2.plot(X_test_r, y_pred_r[:, 1], alpha=0.8, c=\"r\", lw=3)\n    ax2.set_xlim(bounds)\n    ax2.set_ylim([-8, 8])\n    ax2.set_xlabel(\"$x$\")\n    ax2.set_ylabel(\"$y$\")\n    ax2.set_title(\"Prediction Intervals with Extrapolated Values\")\n\n    plt.subplots_adjust(top=0.15)\n    fig.tight_layout(pad=3)\n\n    plt.show()\n\n\nplot_extrapolations(func, X, y, extrap_min_idx, extrap_max_idx)"
      ]
    }
  ],
  "metadata": {
    "kernelspec": {
      "display_name": "Python 3",
      "language": "python",
      "name": "python3"
    },
    "language_info": {
      "codemirror_mode": {
        "name": "ipython",
        "version": 3
      },
      "file_extension": ".py",
      "mimetype": "text/x-python",
      "name": "python",
      "nbconvert_exporter": "python",
      "pygments_lexer": "ipython3",
      "version": "3.12.1"
    }
  },
  "nbformat": 4,
  "nbformat_minor": 0
}