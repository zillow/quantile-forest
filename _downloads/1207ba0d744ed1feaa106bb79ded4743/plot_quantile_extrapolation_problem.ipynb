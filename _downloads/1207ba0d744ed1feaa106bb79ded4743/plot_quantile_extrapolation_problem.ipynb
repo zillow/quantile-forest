{
  "cells": [
    {
      "cell_type": "code",
      "execution_count": null,
      "metadata": {
        "collapsed": false
      },
      "outputs": [],
      "source": [
        "%matplotlib inline"
      ]
    },
    {
      "cell_type": "markdown",
      "metadata": {},
      "source": [
        "\n# Quantile regression forest extrapolation problem\n\nAn example on a toy dataset that demonstrates that the prediction intervals\nproduced by a quantile regression forest do not extrapolate outside of the\nbounds of the data in the training set, an important limitation of the\napproach.\n"
      ]
    },
    {
      "cell_type": "code",
      "execution_count": null,
      "metadata": {
        "collapsed": false
      },
      "outputs": [],
      "source": [
        "print(__doc__)\n\nimport numpy as np\nimport matplotlib.pyplot as plt\nfrom quantile_forest import RandomForestQuantileRegressor\n\nnp.random.seed(0)\n\nn_points = 1000\nbounds = [-1, 21]\nextrap_pct = 0.2\n\nx = np.linspace(bounds[0], bounds[1], n_points)\n\nf = np.sin(x)\nstd = 0.01 + np.abs(x - 5.0) / 5.0\nnoise = np.random.normal(scale=std)\ny = f + noise\n\nextrap_min_idx = int(n_points * (extrap_pct / 2))\nextrap_max_idx = int(n_points - (n_points * (extrap_pct / 2)))\n\nx_train = x[extrap_min_idx:extrap_max_idx]\ny_train = y[extrap_min_idx:extrap_max_idx]\n\nx_mid = x[extrap_min_idx:extrap_max_idx]\nx_left = x[:extrap_min_idx]\nx_right = x[extrap_max_idx:]\n\ny_mid = y[extrap_min_idx:extrap_max_idx]\ny_left = y[:extrap_min_idx]\ny_right = y[extrap_max_idx:]\n\nqrf = RandomForestQuantileRegressor(n_estimators=100, random_state=0)\nqrf.fit(np.expand_dims(x_train, axis=-1), y_train)\n\ny_pred1 = qrf.predict(np.expand_dims(x_train, axis=-1), quantiles=[0.025, 0.5, 0.975])\n\ny_pred2 = qrf.predict(np.expand_dims(x, axis=-1), quantiles=[0.025, 0.5, 0.975])  # extrapolate\ny_pred2_mid = y_pred2[extrap_min_idx:extrap_max_idx]\ny_pred2_left = y_pred2[:extrap_min_idx]\ny_pred2_right = y_pred2[extrap_max_idx:]\n\nfig, (ax1, ax2) = plt.subplots(nrows=1, ncols=2, figsize=(10, 4))\n\nax1.plot([x_train, x_train], [y_pred1[:, 0], y_pred1[:, 2]], alpha=0.2, c=\"#e0f2ff\", lw=3)\nax1.plot(x_train, y_train, c=\"#f2a619\", lw=0, marker=\"o\", mfc=\"none\", ms=1.5)\nax1.plot(x_train, f[extrap_min_idx:extrap_max_idx], c=\"#006aff\")\nax1.set_xlabel(\"x\")\nax1.set_ylabel(\"y\")\nax1.set_title(\"Prediction Intervals on Training Data\")\n\nax2.plot([x_mid, x_mid], [y_pred2_mid[:, 0], y_pred2_mid[:, 2]], alpha=0.2, c=\"#e0f2ff\", lw=3)\nax2.plot([x_left, x_left], [y_pred2_left[:, 0], y_pred2_left[:, 2]], alpha=0.02, c=\"r\", lw=3)\nax2.plot([x_right, x_right], [y_pred2_right[:, 0], y_pred2_right[:, 2]], alpha=0.02, lw=3, c=\"r\")\nax2.plot(x_left, y_pred2_left[:, 1], alpha=0.5, c=\"r\", lw=0, marker=\"o\", mfc=\"none\", ms=1.5)\nax2.plot(x_right, y_pred2_right[:, 1], alpha=0.5, c=\"r\", lw=0, marker=\"o\", mfc=\"none\", ms=1.5)\nax2.plot(x, y, c=\"#f2a619\", lw=0, marker=\"o\", mfc=\"none\", ms=1.5)\nax2.plot(x, f, c=\"#006aff\")\nax2.set_xlabel(\"x\")\nax2.set_ylabel(\"y\")\nax2.set_title(\"Prediction Intervals with Extrapolated Values\")\n\nplt.subplots_adjust(top=0.15)\nfig.tight_layout(pad=3)\n\nplt.show()"
      ]
    }
  ],
  "metadata": {
    "kernelspec": {
      "display_name": "Python 3",
      "language": "python",
      "name": "python3"
    },
    "language_info": {
      "codemirror_mode": {
        "name": "ipython",
        "version": 3
      },
      "file_extension": ".py",
      "mimetype": "text/x-python",
      "name": "python",
      "nbconvert_exporter": "python",
      "pygments_lexer": "ipython3",
      "version": "3.10.10"
    }
  },
  "nbformat": 4,
  "nbformat_minor": 0
}