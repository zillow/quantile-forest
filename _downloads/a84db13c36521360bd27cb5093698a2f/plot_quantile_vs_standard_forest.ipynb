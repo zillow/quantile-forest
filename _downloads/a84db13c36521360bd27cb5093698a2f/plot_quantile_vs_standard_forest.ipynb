{
  "cells": [
    {
      "cell_type": "markdown",
      "metadata": {},
      "source": [
        "\n# Quantile regression forest vs. standard regression forest\n\nAn example comparison between a quantile regression forest and a standard\nregression forest on a synthetic, right-skewed dataset. In a right-skewed\ndistribution, the mean is to the right of the median.\n"
      ]
    },
    {
      "cell_type": "code",
      "execution_count": null,
      "metadata": {
        "collapsed": false
      },
      "outputs": [],
      "source": [
        "print(__doc__)\n\nimport matplotlib.pyplot as plt\nimport scipy as sp\nfrom sklearn.ensemble import RandomForestRegressor\nfrom sklearn.model_selection import train_test_split\nfrom sklearn.utils.validation import check_random_state\n\nfrom quantile_forest import RandomForestQuantileRegressor\n\n\nrng = check_random_state(0)\n\n# Create right-skewed dataset.\nn_samples = 5000\na, loc, scale = 5, -1, 1\nskewnorm_rv = sp.stats.skewnorm(a, loc, scale)\nskewnorm_rv.random_state = rng\ny = skewnorm_rv.rvs(n_samples)\nX = rng.randn(n_samples, 2) * y.reshape(-1, 1)\n\nregr_rf = RandomForestRegressor(n_estimators=10, random_state=0)\nregr_qrf = RandomForestQuantileRegressor(n_estimators=10, random_state=0)\n\nX_train, X_test, y_train, y_test = train_test_split(X, y, test_size=0.5, random_state=0)\n\nregr_rf.fit(X_train, y_train)\nregr_qrf.fit(X_train, y_train)\n\ny_pred_rf = regr_rf.predict(X_test)\ny_pred_qrf = regr_qrf.predict(X_test, quantiles=0.5)\n\ncolors = [\"#c0c0c0\", \"#f2a619\", \"#a6e5ff\"]\nnames = [\"Actual\", \"RF (Mean)\", \"QRF (Median)\"]\nplt.hist([y_test, y_pred_rf, y_pred_qrf], bins=50, color=colors, label=names)\nplt.xlabel(\"Actual and Predicted Target Values\")\nplt.ylabel(\"Counts\")\nplt.legend()\nplt.show()"
      ]
    }
  ],
  "metadata": {
    "kernelspec": {
      "display_name": "Python 3",
      "language": "python",
      "name": "python3"
    },
    "language_info": {
      "codemirror_mode": {
        "name": "ipython",
        "version": 3
      },
      "file_extension": ".py",
      "mimetype": "text/x-python",
      "name": "python",
      "nbconvert_exporter": "python",
      "pygments_lexer": "ipython3",
      "version": "3.11.4"
    }
  },
  "nbformat": 4,
  "nbformat_minor": 0
}