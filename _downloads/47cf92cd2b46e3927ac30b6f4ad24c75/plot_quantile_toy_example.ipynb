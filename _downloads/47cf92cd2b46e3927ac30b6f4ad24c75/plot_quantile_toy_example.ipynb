{
  "cells": [
    {
      "cell_type": "markdown",
      "metadata": {},
      "source": [
        "\n# Quantile regression forest predictions compared to ground truth function\n\nAn example that demonstrates the use of a quantile regression forest to\npredict a conditional median and prediction intervals. The example compares\nthe predictions to a ground truth function used to generate noisy samples.\n"
      ]
    },
    {
      "cell_type": "code",
      "execution_count": null,
      "metadata": {
        "collapsed": false
      },
      "outputs": [],
      "source": [
        "print(__doc__)\n\nimport matplotlib.pyplot as plt\nimport numpy as np\nfrom sklearn.model_selection import train_test_split\n\nfrom quantile_forest import RandomForestQuantileRegressor\n\n\ndef make_toy_dataset(n_samples, seed=0):\n    rng = np.random.RandomState(seed)\n\n    x = rng.uniform(0, 10, size=n_samples)\n    f = x * np.sin(x)\n\n    sigma = 0.25 + x / 10\n    noise = rng.lognormal(sigma=sigma) - np.exp(sigma**2 / 2)\n    y = f + noise\n\n    return np.atleast_2d(x).T, y\n\n\nn_samples = 1000\nX, y = make_toy_dataset(n_samples)\n\nX_train, X_test, y_train, y_test = train_test_split(X, y, random_state=0)\n\nX_sampled = np.atleast_2d(np.linspace(0, 10, n_samples)).T\ny_sampled = X_sampled * np.sin(X_sampled)\n\nqrf = RandomForestQuantileRegressor(max_depth=3, min_samples_leaf=5, random_state=0)\nqrf.fit(X_train, y_train)\n\ny_pred = qrf.predict(X_sampled, quantiles=[0.025, 0.5, 0.975])\n\n\ndef plot_fit_and_intervals(X_sampled, y_sampled, X_test, y_test, y_pred):\n    y_pred_low = y_pred[:, 0]\n    y_pred_med = y_pred[:, 1]\n    y_pred_upp = y_pred[:, 2]\n\n    plt.plot(X_test, y_test, \".\", c=\"#f2a619\", label=\"Test Observations\", ms=5)\n    plt.plot(X_sampled, y_sampled, c=\"black\", label=\"$f(x) = x\\\\,\\\\sin(x)$\", lw=2)\n    plt.plot(X_sampled, y_pred_med, c=\"#006aff\", label=\"Predicted Median\", lw=3, ms=5)\n    plt.fill_between(\n        X_sampled.ravel(),\n        y_pred_low,\n        y_pred_upp,\n        color=\"#e0f2ff\",\n        label=\"Predicted 95% Interval\",\n    )\n    plt.xlabel(\"$x$\")\n    plt.ylabel(\"$f(x)$\")\n    plt.legend(loc=\"upper left\")\n    plt.show()\n\n\nplot_fit_and_intervals(X_sampled, y_sampled, X_test, y_test, y_pred)"
      ]
    }
  ],
  "metadata": {
    "kernelspec": {
      "display_name": "Python 3",
      "language": "python",
      "name": "python3"
    },
    "language_info": {
      "codemirror_mode": {
        "name": "ipython",
        "version": 3
      },
      "file_extension": ".py",
      "mimetype": "text/x-python",
      "name": "python",
      "nbconvert_exporter": "python",
      "pygments_lexer": "ipython3",
      "version": "3.12.0"
    }
  },
  "nbformat": 4,
  "nbformat_minor": 0
}