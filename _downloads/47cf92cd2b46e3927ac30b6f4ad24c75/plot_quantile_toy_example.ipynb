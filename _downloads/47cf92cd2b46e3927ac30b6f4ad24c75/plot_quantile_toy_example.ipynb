{
  "cells": [
    {
      "cell_type": "markdown",
      "metadata": {},
      "source": [
        "\n# Quantile regression forest predictions compared to ground truth function\n\nAn example that demonstrates the use of a quantile regression forest to\npredict a conditional median and prediction intervals. The example compares\nthe predictions to a ground truth function used to generate noisy samples.\n"
      ]
    },
    {
      "cell_type": "code",
      "execution_count": null,
      "metadata": {
        "collapsed": false
      },
      "outputs": [],
      "source": [
        "print(__doc__)\n\nimport matplotlib.pyplot as plt\nimport numpy as np\nfrom sklearn.model_selection import train_test_split\n\nfrom quantile_forest import RandomForestQuantileRegressor\n\n\ndef make_toy_dataset(n_samples, seed=0):\n    rng = np.random.RandomState(seed)\n\n    x = rng.uniform(0, 10, size=n_samples)\n    f = x * np.sin(x)\n\n    sigma = 0.25 + x / 10\n    noise = rng.lognormal(sigma=sigma) - np.exp(sigma**2 / 2)\n    y = f + noise\n\n    return np.atleast_2d(x).T, y\n\n\nn_samples = 1000\nX, y = make_toy_dataset(n_samples)\n\nX_train, X_test, y_train, y_test = train_test_split(X, y, random_state=0)\n\nxx = np.atleast_2d(np.linspace(0, 10, n_samples)).T\n\nqrf = RandomForestQuantileRegressor(max_depth=3, min_samples_leaf=5, random_state=0)\nqrf.fit(X_train, y_train)\n\ny_pred = qrf.predict(xx, quantiles=[0.025, 0.5, 0.975])\n\ny_pred_low = y_pred[:, 0]\ny_pred_med = y_pred[:, 1]\ny_pred_upp = y_pred[:, 2]\n\nplt.plot(X_test, y_test, \".\", c=\"#f2a619\", label=\"Test Observations\", ms=5)\nplt.plot(xx, (xx * np.sin(xx)), c=\"black\", label=\"$f(x) = x\\,\\sin(x)$\", lw=2)  # noqa: W605\nplt.plot(xx, y_pred_med, c=\"#006aff\", label=\"Predicted Median\", lw=3, ms=5)\nplt.fill_between(\n    xx.ravel(),\n    y_pred_low,\n    y_pred_upp,\n    color=\"#e0f2ff\",\n    label=\"Predicted 95% Interval\",\n)\nplt.xlabel(\"$x$\")\nplt.ylabel(\"$f(x)$\")\nplt.legend(loc=\"upper left\")\nplt.show()"
      ]
    }
  ],
  "metadata": {
    "kernelspec": {
      "display_name": "Python 3",
      "language": "python",
      "name": "python3"
    },
    "language_info": {
      "codemirror_mode": {
        "name": "ipython",
        "version": 3
      },
      "file_extension": ".py",
      "mimetype": "text/x-python",
      "name": "python",
      "nbconvert_exporter": "python",
      "pygments_lexer": "ipython3",
      "version": "3.11.5"
    }
  },
  "nbformat": 4,
  "nbformat_minor": 0
}