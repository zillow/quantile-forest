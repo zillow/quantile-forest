{
  "cells": [
    {
      "cell_type": "code",
      "execution_count": null,
      "metadata": {
        "collapsed": false
      },
      "outputs": [],
      "source": [
        "%matplotlib inline"
      ]
    },
    {
      "cell_type": "markdown",
      "metadata": {},
      "source": [
        "\n# Predicting with different quantile interpolation methods\n\nAn example comparison of interpolation methods that can be applied during\nprediction when the desired quantile lies between two data points.\n"
      ]
    },
    {
      "cell_type": "code",
      "execution_count": null,
      "metadata": {
        "collapsed": false
      },
      "outputs": [],
      "source": [
        "print(__doc__)\n\nimport matplotlib.pyplot as plt\nimport numpy as np\n\nfrom quantile_forest import RandomForestQuantileRegressor\n\n\n# Create toy dataset.\nX = np.array([[-1, -1], [-1, -1], [-1, -1], [1, 1], [1, 1]])\ny = np.array([-2, -1, 0, 1, 2])\n\nest = RandomForestQuantileRegressor(\n    n_estimators=1,\n    bootstrap=False,\n    random_state=0,\n)\nest.fit(X, y)\n\ninterpolations = [\"linear\", \"lower\", \"higher\", \"midpoint\", \"nearest\"]\ncolors = [\"#eeca3b\", \"#4c78a8\", \"#72b7b2\", \"#54a24b\", \"#f58518\"]\n\ny_medians = []\ny_errs = []\n\nfor interpolation in interpolations:\n    y_pred = est.predict(\n        X,\n        quantiles=[0.025, 0.5, 0.975],\n        interpolation=interpolation,\n    )\n    y_medians.append(y_pred[:, 1])\n    y_errs.append(np.concatenate((\n        [y_pred[:, 1] - y_pred[:, 0]],\n        [y_pred[:, 2] - y_pred[:, 1]],\n    ), axis=0))\n\nsc = plt.scatter(np.arange(len(y)) - .35, y, color=\"k\", zorder=10)\nebs = []\nfor i, (median, y_err) in enumerate(zip(y_medians, y_errs)):\n    ebs.append(\n        plt.errorbar(\n            np.arange(len(y)) + (.15 * (i + 1)) - .35,\n            median,\n            yerr=y_err,\n            color=colors[i],\n            ecolor=colors[i],\n            fmt=\"o\",\n        )\n    )\nplt.xlim([-.75, len(y) - .25])\nplt.xticks(np.arange(len(y)), X.tolist())\nplt.xlabel(\"Samples (Feature Values)\")\nplt.ylabel(\"Actual and Predicted Values\")\nplt.legend([sc] + ebs, [\"actual\"] + interpolations, loc=2)\nplt.show()"
      ]
    }
  ],
  "metadata": {
    "kernelspec": {
      "display_name": "Python 3",
      "language": "python",
      "name": "python3"
    },
    "language_info": {
      "codemirror_mode": {
        "name": "ipython",
        "version": 3
      },
      "file_extension": ".py",
      "mimetype": "text/x-python",
      "name": "python",
      "nbconvert_exporter": "python",
      "pygments_lexer": "ipython3",
      "version": "3.10.8"
    }
  },
  "nbformat": 4,
  "nbformat_minor": 0
}