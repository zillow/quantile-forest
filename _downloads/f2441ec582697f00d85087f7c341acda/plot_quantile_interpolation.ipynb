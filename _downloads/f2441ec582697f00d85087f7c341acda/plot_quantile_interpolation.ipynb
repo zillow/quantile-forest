{
  "cells": [
    {
      "cell_type": "markdown",
      "metadata": {},
      "source": [
        "\n# Predicting with different quantile interpolation methods\n\nAn example comparison of interpolation methods that can be applied during\nprediction when the desired quantile lies between two data points.\n"
      ]
    },
    {
      "cell_type": "code",
      "execution_count": null,
      "metadata": {
        "collapsed": false
      },
      "outputs": [],
      "source": [
        "print(__doc__)\n\nimport matplotlib.pyplot as plt\nimport numpy as np\n\nfrom quantile_forest import RandomForestQuantileRegressor\n\n# Create toy dataset.\nX = np.array([[-1, -1], [-1, -1], [-1, -1], [1, 1], [1, 1]])\ny = np.array([-2, -1, 0, 1, 2])\n\nest = RandomForestQuantileRegressor(\n    n_estimators=1,\n    max_samples_leaf=None,\n    bootstrap=False,\n    random_state=0,\n)\nest.fit(X, y)\n\ninterpolations = [\"Linear\", \"Lower\", \"Higher\", \"Midpoint\", \"Nearest\"]\ncolors = [\"#006aff\", \"#ffd237\", \"#0d4599\", \"#f2a619\", \"#a6e5ff\"]\n\ny_medians = []\ny_errs = []\n\nfor interpolation in interpolations:\n    y_pred = est.predict(\n        X,\n        quantiles=[0.025, 0.5, 0.975],\n        interpolation=interpolation.lower(),\n    )\n    y_medians.append(y_pred[:, 1])\n    y_errs.append(\n        np.concatenate(\n            (\n                [y_pred[:, 1] - y_pred[:, 0]],\n                [y_pred[:, 2] - y_pred[:, 1]],\n            ),\n            axis=0,\n        )\n    )\n\n\ndef plot_interpolations(names, colors, X, y, y_medians, y_errs):\n    sc = plt.scatter(np.arange(len(y)) - 0.35, y, color=\"k\", zorder=10)\n    ebs = []\n    for i, (median, y_err) in enumerate(zip(y_medians, y_errs)):\n        ebs.append(\n            plt.errorbar(\n                np.arange(len(y)) + (0.15 * (i + 1)) - 0.35,\n                median,\n                yerr=y_err,\n                color=colors[i],\n                ecolor=colors[i],\n                fmt=\"o\",\n            )\n        )\n    plt.xlim([-0.75, len(y) - 0.25])\n    plt.xticks(np.arange(len(y)), X.tolist())\n    plt.xlabel(\"Samples (Feature Values)\")\n    plt.ylabel(\"Actual and Predicted Values\")\n    plt.legend([sc] + ebs, [\"Actual\"] + names, loc=2)\n    plt.show()\n\n\nplot_interpolations(interpolations, colors, X, y, y_medians, y_errs)"
      ]
    }
  ],
  "metadata": {
    "kernelspec": {
      "display_name": "Python 3",
      "language": "python",
      "name": "python3"
    },
    "language_info": {
      "codemirror_mode": {
        "name": "ipython",
        "version": 3
      },
      "file_extension": ".py",
      "mimetype": "text/x-python",
      "name": "python",
      "nbconvert_exporter": "python",
      "pygments_lexer": "ipython3",
      "version": "3.12.1"
    }
  },
  "nbformat": 4,
  "nbformat_minor": 0
}