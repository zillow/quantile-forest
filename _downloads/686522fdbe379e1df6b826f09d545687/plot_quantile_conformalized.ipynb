{
  "cells": [
    {
      "cell_type": "markdown",
      "metadata": {},
      "source": [
        "\n# Quantile regression forests for conformalized quantile regression\n\nAn example that demonstrates the use of a quantile regression forest (QRF) to\nconstruct reliable prediction intervals using conformalized quantile\nregression (CQR). CQR offers prediction intervals that attain valid coverage,\nwhile QRF may require additional calibration for reliable interval estimates.\nBased on \"Prediction intervals: Quantile Regression Forests\" by Carl McBride\nEllis:\nhttps://www.kaggle.com/code/carlmcbrideellis/prediction-intervals-quantile-regression-forests.\n"
      ]
    },
    {
      "cell_type": "code",
      "execution_count": null,
      "metadata": {
        "collapsed": false
      },
      "outputs": [],
      "source": [
        "print(__doc__)\n\nimport matplotlib.pyplot as plt\nimport numpy as np\nfrom matplotlib.offsetbox import AnchoredText\nfrom matplotlib.ticker import FuncFormatter\nfrom sklearn import datasets\nfrom sklearn.model_selection import train_test_split\nfrom sklearn.utils.validation import check_random_state\n\nfrom quantile_forest import RandomForestQuantileRegressor\n\nrandom_state = 0\nrng = check_random_state(random_state)\nround_to = 3\ncov_pct = 90  # the \"coverage level\"\nalpha = (100 - cov_pct) / 100\n\n# Load the California Housing Prices dataset.\ncalifornia = datasets.fetch_california_housing()\nn_samples = min(california.target.size, 1000)\nperm = rng.permutation(n_samples)\nX = california.data[perm]\ny = california.target[perm]\n\nX_train, X_test, y_train, y_test = train_test_split(X, y, random_state=0)\n\n\ndef sort_y_values(y_test, y_pred, y_pis):\n    \"\"\"Sort the dataset for making plots using the `fill_between` function.\"\"\"\n    indices = np.argsort(y_test)\n    y_test_sorted = np.array(y_test)[indices]\n    y_pred_sorted = y_pred[indices]\n    y_lower_bound = y_pis[:, 0][indices]\n    y_upper_bound = y_pis[:, 1][indices]\n    return y_test_sorted, y_pred_sorted, y_lower_bound, y_upper_bound\n\n\ndef coverage_score(y_true, y_pred_low, y_pred_upp):\n    \"\"\"Effective coverage score obtained by the prediction intervals.\"\"\"\n    coverage = np.mean((y_pred_low <= y_true) & (y_pred_upp >= y_true))\n    return float(coverage)\n\n\ndef mean_width_score(y_pred_low, y_pred_upp):\n    \"\"\"Effective mean width score obtained by the prediction intervals.\"\"\"\n    mean_width = np.abs(y_pred_upp - y_pred_low).mean()\n    return float(mean_width)\n\n\nstrategies = {\n    \"qrf\": \"Quantile Regression Forest (QRF)\",\n    \"cqr\": \"Conformalized Quantile Regression (CQR)\",\n}\n\n\ndef qrf_strategy(alpha, X_train, X_test, y_train, y_test):\n    quantiles = [alpha / 2, 1 - alpha / 2]\n\n    qrf = RandomForestQuantileRegressor(random_state=0)\n    qrf.fit(X_train, y_train)\n\n    # Calculate the lower and upper quantile values on the test data.\n    y_pred_interval = qrf.predict(X_test, quantiles=quantiles)\n    y_pred_low = y_pred_interval[:, 0]\n    y_pred_upp = y_pred_interval[:, 1]\n    y_pis = np.stack([y_pred_low, y_pred_upp], axis=1)\n\n    # Calculate the point predictions on the test data.\n    y_pred = qrf.predict(X_test, quantiles=\"mean\", aggregate_leaves_first=False)\n\n    coverage = coverage_score(y_test, y_pred_low, y_pred_upp)\n    width = mean_width_score(y_pred_low, y_pred_upp)\n\n    return *sort_y_values(y_test, y_pred, y_pis), coverage, width\n\n\ndef cqr_strategy(alpha, X_train, X_test, y_train, y_test):\n    quantiles = [alpha / 2, 1 - alpha / 2]\n\n    # Create calibration set.\n    X_train, X_calib, y_train, y_calib = train_test_split(\n        X_train, y_train, test_size=0.5, random_state=0\n    )\n\n    qrf = RandomForestQuantileRegressor(random_state=0)\n    qrf.fit(X_train, y_train)\n\n    # Calculate the lower and upper quantile values on the test data.\n    y_pred_interval = qrf.predict(X_test, quantiles=quantiles)\n    y_pred_low = y_pred_interval[:, 0]\n    y_pred_upp = y_pred_interval[:, 1]\n\n    # Calculate the lower and upper quantile values on the calibration set.\n    y_pred_interval_calib = qrf.predict(X_calib, quantiles=quantiles)\n    y_pred_low_calib = y_pred_interval_calib[:, 0]\n    y_pred_upp_calib = y_pred_interval_calib[:, 1]\n\n    # Calculate the conformity scores on the calibration data.\n    a = y_pred_low_calib - y_calib\n    b = y_calib - y_pred_upp_calib\n    conf_scores = (np.vstack((a, b)).T).max(axis=1)\n\n    # Get the 1-alpha quantile `s` from the distribution of conformity scores.\n    s = np.quantile(conf_scores, (1 - alpha) * (1 + (1 / (len(y_calib)))))\n\n    # Subtract `s` from the lower quantile and add it to the upper quantile.\n    y_conf_low = y_pred_low - s\n    y_conf_upp = y_pred_upp + s\n    y_pis = np.stack([y_conf_low, y_conf_upp], axis=1)\n\n    # Calculate the point predictions on the test data.\n    y_pred = qrf.predict(X_test, quantiles=\"mean\", aggregate_leaves_first=False)\n\n    coverage = coverage_score(y_test, y_conf_low, y_conf_upp)\n    width = mean_width_score(y_conf_low, y_conf_upp)\n\n    return *sort_y_values(y_test, y_pred, y_pis), coverage, width\n\n\nresults = {}\nresults[\"qrf\"] = qrf_strategy(alpha, X_train, X_test, y_train, y_test)\nresults[\"cqr\"] = cqr_strategy(alpha, X_train, X_test, y_train, y_test)\n\n\ndef plot_prediction_intervals(\n    title,\n    alpha,\n    ax,\n    y_test,\n    y_pred,\n    y_pred_low,\n    y_pred_upp,\n    coverage,\n    width,\n    num_plots_idx,\n    round_to,\n    price_formatter,\n):\n    \"\"\"Plot of the prediction intervals for each method.\"\"\"\n    y_pred_low_ = np.take(y_pred_low, num_plots_idx)\n    y_pred_upp_ = np.take(y_pred_upp, num_plots_idx)\n    y_pred_ = np.take(y_pred, num_plots_idx)\n    y_test_ = np.take(y_test, num_plots_idx)\n\n    for low, mid, upp in zip(y_pred_low_, y_pred_, y_pred_upp_):\n        ax.plot([mid, mid], [low, upp], lw=4, c=\"#e0f2ff\")\n    ax.plot(y_pred_, y_test_, c=\"#f2a619\", lw=0, marker=\".\", ms=5)\n    ax.plot(y_pred_, y_pred_low_, alpha=0.4, c=\"#006aff\", lw=0, marker=\"_\", ms=4)\n    ax.plot(y_pred_, y_pred_upp_, alpha=0.4, c=\"#006aff\", lw=0, marker=\"_\", ms=4)\n\n    ax.set_xlabel(\"True House Prices\")\n    ax.set_ylabel(\"Predicted House Prices\")\n    lims = [\n        np.min(np.minimum(y_test, y_pred)),  # min of both axes\n        np.max(np.maximum(y_test, y_pred)),  # max of both axes\n    ]\n    ax.plot(lims, lims, ls=\"--\", lw=1, c=\"grey\", label=None)\n    at = AnchoredText(\n        (\n            f\"PICP: {np.round(coverage, round_to)} (target = {1 - alpha})\\n\"\n            + f\"Mean Interval Width: {np.round(width, round_to)}\"\n        ),\n        frameon=False,\n        loc=2,\n    )\n    ax.add_artist(at)\n    ax.grid(axis=\"x\", color=\"0.95\")\n    ax.grid(axis=\"y\", color=\"0.95\")\n    ax.yaxis.set_major_formatter(price_formatter)\n    ax.xaxis.set_major_formatter(price_formatter)\n    ax.set_xlim(lims)\n    ax.set_ylim(lims)\n    ax.set_title(title)\n\n\nfig, axs = plt.subplots(nrows=1, ncols=2, figsize=(10, 4.15))\n\ncoords = [axs[0], axs[1]]\nnum_plots = rng.choice(len(y_test), int(len(y_test)), replace=False)\nusd_formatter = FuncFormatter(lambda x, p: f\"${format(int(x * 100), ',')}k\")\n\nfor strategy, coord in zip(strategies.keys(), coords):\n    plot_prediction_intervals(\n        strategies[strategy],\n        alpha,\n        coord,\n        *results[strategy],\n        num_plots,\n        round_to,\n        usd_formatter,\n    )\n\nplt.subplots_adjust(top=0.15)\nfig.tight_layout(pad=3)\n\nplt.show()"
      ]
    }
  ],
  "metadata": {
    "kernelspec": {
      "display_name": "Python 3",
      "language": "python",
      "name": "python3"
    },
    "language_info": {
      "codemirror_mode": {
        "name": "ipython",
        "version": 3
      },
      "file_extension": ".py",
      "mimetype": "text/x-python",
      "name": "python",
      "nbconvert_exporter": "python",
      "pygments_lexer": "ipython3",
      "version": "3.12.1"
    }
  },
  "nbformat": 4,
  "nbformat_minor": 0
}