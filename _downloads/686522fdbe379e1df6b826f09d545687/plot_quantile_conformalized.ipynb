{
  "cells": [
    {
      "cell_type": "markdown",
      "metadata": {},
      "source": [
        "\n# Quantile regression forests for conformalized quantile regression\n\nAn example that demonstrates the use of a quantile regression forest (QRF) to\nconstruct reliable prediction intervals using conformalized quantile\nregression (CQR). CQR offers prediction intervals that attain valid coverage,\nwhile QRF may require additional calibration for reliable interval estimates.\nThis example uses MAPIE to construct the CQR interval estimates with a QRF.\n"
      ]
    },
    {
      "cell_type": "code",
      "execution_count": null,
      "metadata": {
        "collapsed": false
      },
      "outputs": [],
      "source": [
        "print(__doc__)\n\nimport warnings\n\nimport matplotlib.pyplot as plt\nimport numpy as np\nfrom mapie.metrics import regression_coverage_score, regression_mean_width_score\nfrom mapie.regression import MapieQuantileRegressor\nfrom matplotlib.offsetbox import AnchoredText\nfrom matplotlib.ticker import FuncFormatter\nfrom sklearn import datasets\nfrom sklearn.model_selection import train_test_split\nfrom sklearn.utils.validation import check_random_state\n\nfrom quantile_forest import RandomForestQuantileRegressor\n\nrandom_state = 0\nrng = check_random_state(random_state)\nround_to = 3\nalpha = 0.5\n\n# Load the California Housing Prices dataset.\ncalifornia = datasets.fetch_california_housing()\nn_samples = min(california.target.size, 1000)\nperm = rng.permutation(n_samples)\nX = california.data[perm]\ny = california.target[perm]\n\nX_train, X_test, y_train, y_test = train_test_split(X, y, random_state=random_state)\nX_train, X_calib, y_train, y_calib = train_test_split(\n    X_train, y_train, test_size=0.5, random_state=random_state\n)\n\n\nclass WrappedRandomForestQuantileRegressor(RandomForestQuantileRegressor):\n    \"\"\"Wrap the QRF estimator with the parameters expected by MAPIE.\"\"\"\n\n    def __init__(self, loss=\"quantile\", **kwargs):\n        super().__init__(**kwargs)\n        self.init_dict = {\"loss\": loss}\n        self.loss = loss\n        self.kwargs = kwargs\n\n    @classmethod\n    def parent(cls):\n        return cls.__bases__[0]\n\n    def get_params(self, *args, **kwargs):\n        params = self.init_dict\n        params.update(self.parent()(**self.kwargs).get_params(*args, **kwargs))\n        return params\n\n\ndef sort_y_values(y_test, y_pred, y_pis):\n    \"\"\"Sort the dataset for making plots using the `fill_between` function.\"\"\"\n    indices = np.argsort(y_test)\n    y_test_sorted = np.array(y_test)[indices]\n    y_pred_sorted = y_pred[indices]\n    y_lower_bound = y_pis[:, 0, 0][indices]\n    y_upper_bound = y_pis[:, 1, 0][indices]\n    return y_test_sorted, y_pred_sorted, y_lower_bound, y_upper_bound\n\n\nest = WrappedRandomForestQuantileRegressor(random_state=random_state)\n\nstrategies = {\n    \"Quantile Regression Forest (QRF)\": {},\n    \"Conformalized Quantile Regression (CQR)\": {\n        \"method\": \"quantile\",\n        \"cv\": \"split\",\n        \"alpha\": alpha,\n    },\n}\n\nquantile_estimator_params = {\n    \"WrappedRandomForestQuantileRegressor\": {\n        \"loss_name\": \"loss\",\n        \"alpha_name\": \"default_quantiles\",\n    },\n}\n\ny_pred, y_pis = {}, {}\ny_test_sorted, y_pred_sorted, lower_bound, upper_bound = {}, {}, {}, {}\ncoverage, width = {}, {}\nfor strategy, params in strategies.items():\n    if strategy == \"Conformalized Quantile Regression (CQR)\":\n        mapie = MapieQuantileRegressor(est, **params)\n        mapie.quantile_estimator_params = quantile_estimator_params\n        mapie.fit(\n            X_train,\n            y_train,\n            X_calib=X_calib,\n            y_calib=y_calib,\n            random_state=random_state,\n        )\n\n        with warnings.catch_warnings():\n            warnings.filterwarnings(\"ignore\", category=UserWarning)\n            y_pred[strategy], y_pis[strategy] = mapie.predict(X_test)\n    else:\n        y_pred_all = est.fit(X_train, y_train).predict(\n            X_test, quantiles=[alpha / 2, 1 - (alpha / 2), 0.5]\n        )\n        y_pred[strategy] = y_pred_all[:, 2]\n        y_pis[strategy] = np.stack(\n            [y_pred_all[:, 0, np.newaxis], y_pred_all[:, 1, np.newaxis]], axis=1\n        )\n    (\n        y_test_sorted[strategy],\n        y_pred_sorted[strategy],\n        lower_bound[strategy],\n        upper_bound[strategy],\n    ) = sort_y_values(y_test, y_pred[strategy], y_pis[strategy])\n    coverage[strategy] = regression_coverage_score(\n        y_test,\n        y_pis[strategy][:, 0, 0],\n        y_pis[strategy][:, 1, 0],\n    )\n    width[strategy] = regression_mean_width_score(\n        y_pis[strategy][:, 0, 0],\n        y_pis[strategy][:, 1, 0],\n    )\n\n\ndef plot_prediction_intervals(\n    title,\n    alpha,\n    ax,\n    y_test,\n    y_pred,\n    y_pred_low,\n    y_pred_upp,\n    coverage,\n    width,\n    num_plots_idx,\n    price_formatter,\n):\n    \"\"\"Plot of the prediction intervals for each method.\"\"\"\n    y_pred_low_ = np.take(y_pred_low, num_plots_idx)\n    y_pred_upp_ = np.take(y_pred_upp, num_plots_idx)\n    y_pred_ = np.take(y_pred, num_plots_idx)\n    y_test_ = np.take(y_test, num_plots_idx)\n\n    for low, mid, upp in zip(y_pred_low_, y_pred_, y_pred_upp_):\n        ax.plot([mid, mid], [low, upp], lw=4, c=\"#e0f2ff\")\n    ax.plot(y_pred_, y_test_, c=\"#f2a619\", lw=0, marker=\".\", ms=5)\n    ax.plot(y_pred_, y_pred_low_, alpha=0.4, c=\"#006aff\", lw=0, marker=\"_\", ms=4)\n    ax.plot(y_pred_, y_pred_upp_, alpha=0.4, c=\"#006aff\", lw=0, marker=\"_\", ms=4)\n\n    ax.set_xlabel(\"True House Prices\")\n    ax.set_ylabel(\"Predicted House Prices\")\n    lims = [\n        np.min(np.minimum(y_test, y_pred)),  # min of both axes\n        np.max(np.maximum(y_test, y_pred)),  # max of both axes\n    ]\n    ax.plot(lims, lims, ls=\"--\", lw=1, c=\"grey\", label=None)\n    at = AnchoredText(\n        (\n            f\"PICP: {np.round(coverage, round_to)} (target = {1 - alpha})\\n\"\n            + f\"Interval Width: {np.round(width, round_to)}\"\n        ),\n        frameon=False,\n        loc=2,\n    )\n    ax.add_artist(at)\n    ax.grid(axis=\"x\", color=\"0.95\")\n    ax.grid(axis=\"y\", color=\"0.95\")\n    ax.yaxis.set_major_formatter(price_formatter)\n    ax.xaxis.set_major_formatter(price_formatter)\n    ax.set_xlim(lims)\n    ax.set_ylim(lims)\n    ax.set_title(title)\n\n\nfig, axs = plt.subplots(nrows=1, ncols=2, figsize=(10, 4.15))\n\ncoords = [axs[0], axs[1]]\nnum_plots = rng.choice(len(y_test), int(len(y_test)), replace=False)\nusd_formatter = FuncFormatter(lambda x, p: f\"${format(int(x) * 100, ',')}k\")\n\nfor strategy, coord in zip(strategies.keys(), coords):\n    plot_prediction_intervals(\n        strategy,\n        alpha,\n        coord,\n        y_test_sorted[strategy],\n        y_pred_sorted[strategy],\n        lower_bound[strategy],\n        upper_bound[strategy],\n        coverage[strategy],\n        width[strategy],\n        num_plots,\n        usd_formatter,\n    )\n\nplt.subplots_adjust(top=0.15)\nfig.tight_layout(pad=3)\n\nplt.show()"
      ]
    }
  ],
  "metadata": {
    "kernelspec": {
      "display_name": "Python 3",
      "language": "python",
      "name": "python3"
    },
    "language_info": {
      "codemirror_mode": {
        "name": "ipython",
        "version": 3
      },
      "file_extension": ".py",
      "mimetype": "text/x-python",
      "name": "python",
      "nbconvert_exporter": "python",
      "pygments_lexer": "ipython3",
      "version": "3.12.0"
    }
  },
  "nbformat": 4,
  "nbformat_minor": 0
}