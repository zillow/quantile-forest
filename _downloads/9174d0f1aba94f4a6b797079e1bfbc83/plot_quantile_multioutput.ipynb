{
  "cells": [
    {
      "cell_type": "markdown",
      "metadata": {},
      "source": [
        "\n# Multiple-output quantile regression\n\nAn example on a toy dataset that demonstrates fitting a single quantile\nregressor for multiple target variables. For each target, multiple quantiles\ncan be estimated simultaneously.\n"
      ]
    },
    {
      "cell_type": "code",
      "execution_count": null,
      "metadata": {
        "collapsed": false
      },
      "outputs": [],
      "source": [
        "print(__doc__)\n\nimport matplotlib.pyplot as plt\nimport numpy as np\nfrom sklearn.model_selection import train_test_split\n\nfrom quantile_forest import RandomForestQuantileRegressor\n\nnp.random.seed(0)\n\n\nn_samples = 10000\nbounds = [-0, 25]\nfuncs = [\n    lambda x: np.sin(x) + np.sqrt(x),\n    lambda x: np.cos(x),\n    lambda x: np.sin(x) - np.sqrt(x),\n]\n\n\ndef make_Xy(funcs, bounds, n_samples):\n    x = np.linspace(bounds[0], bounds[1], n_samples)\n    y = np.empty((len(x), 3))\n    y[:, 0] = funcs[0](x) + np.random.normal(scale=0.01 * np.abs(x))\n    y[:, 1] = funcs[1](x) + np.random.normal(scale=0.01 * np.abs(x))\n    y[:, 2] = funcs[2](x) + np.random.normal(scale=0.01 * np.abs(x))\n    return x, y\n\n\nX, y = make_Xy(funcs, bounds, n_samples)\nX_train, X_test, y_train, y_test = train_test_split(X, y, test_size=0.5, random_state=0)\n\nqrf = RandomForestQuantileRegressor(random_state=0)\nqrf.fit(X_train.reshape(-1, 1), y_train)\n\ny_pred = qrf.predict(X.reshape(-1, 1), quantiles=[0.025, 0.5, 0.975])\n\n\ndef plot_multioutputs(colors, funcs, X, y):\n    for i in range(y.shape[-1]):\n        y1 = y_pred[:, 0, i]\n        y2 = y_pred[:, 2, i]\n        plt.fill_between(X, y1, y2, alpha=0.4, color=colors[i], label=f\"Target {i}\")\n        plt.plot(X, funcs[i](X), c=\"black\")\n    plt.xlim(bounds)\n    plt.ylim([-8, 8])\n    plt.xlabel(\"$x$\")\n    plt.ylabel(\"$y$\")\n    plt.legend(loc=\"upper left\")\n    plt.title(\"Multi-target Prediction Intervals\")\n    plt.show()\n\n\ncolors = [\"#f2a619\", \"#006aff\", \"#001751\"]\nplot_multioutputs(colors, funcs, X, y)"
      ]
    }
  ],
  "metadata": {
    "kernelspec": {
      "display_name": "Python 3",
      "language": "python",
      "name": "python3"
    },
    "language_info": {
      "codemirror_mode": {
        "name": "ipython",
        "version": 3
      },
      "file_extension": ".py",
      "mimetype": "text/x-python",
      "name": "python",
      "nbconvert_exporter": "python",
      "pygments_lexer": "ipython3",
      "version": "3.12.1"
    }
  },
  "nbformat": 4,
  "nbformat_minor": 0
}